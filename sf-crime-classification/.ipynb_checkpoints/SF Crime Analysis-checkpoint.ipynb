{
 "cells": [
  {
   "cell_type": "markdown",
   "metadata": {},
   "source": [
    "# Problem Statement - San Francisco Crime Classification\n",
    "Predict the category of crimes that occurred in the city by the bay \n",
    "To examine the specific problem, we will apply a full Data Science life cycle composed of the following steps:\n",
    "\n",
    "1. Data Wrangling : to audit the quality of the data and perform all the necessary actions to clean the dataset.\n",
    "2. Data Exploration (EDA) : for understanding the predictors and create intuition on the data.\n",
    "3. Feature Engineering : to create additional predictors from the existing which are potentially more insightful.\n",
    "4. Data Normalization and Data Transformation : for preparing the dataset for learning algorithms (if needed).\n",
    "6. Training / Testing data creation : to evaluate the performance of our models and fine-tune their hyperparameters.\n",
    "7. Model selection and evaluation. This will be the final goal; creating a model that predicts the probability of each type of crime based on the location and the date."
   ]
  },
  {
   "cell_type": "markdown",
   "metadata": {},
   "source": [
    "# Data\n",
    "This dataset contains incidents derived from SFPD Crime Incident Reporting system. The data ranges from 1/1/2003 to 5/13/2015. The training set and test set rotate every week, meaning week 1,3,5,7... belong to test set, week 2,4,6,8 belong to training set. \n",
    "\n",
    "Data fields\n",
    "1. Dates - timestamp of the crime incident\n",
    "2. Category - category of the crime incident (only in train.csv). This is the target variable you are going to predict.\n",
    "3. Descript - detailed description of the crime incident (only in train.csv)\n",
    "4. DayOfWeek - the day of the week\n",
    "5. PdDistrict - name of the Police Department District\n",
    "6. Resolution - how the crime incident was resolved (only in train.csv)\n",
    "7. Address - the approximate street address of the crime incident \n",
    "8. X - Longitude\n",
    "9. Y - Latitude"
   ]
  },
  {
   "cell_type": "code",
   "execution_count": null,
   "metadata": {},
   "outputs": [],
   "source": [
    "crimes = pd.read_csv()"
   ]
  }
 ],
 "metadata": {
  "kernelspec": {
   "display_name": "Python 3",
   "language": "python",
   "name": "python3"
  },
  "language_info": {
   "codemirror_mode": {
    "name": "ipython",
    "version": 3
   },
   "file_extension": ".py",
   "mimetype": "text/x-python",
   "name": "python",
   "nbconvert_exporter": "python",
   "pygments_lexer": "ipython3",
   "version": "3.7.6"
  }
 },
 "nbformat": 4,
 "nbformat_minor": 4
}
